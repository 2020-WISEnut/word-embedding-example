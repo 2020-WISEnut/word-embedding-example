{
 "cells": [
  {
   "cell_type": "markdown",
   "metadata": {},
   "source": [
    "# W2V Tutorial\n",
    "\n",
    "## 1. Data loading\n",
    "\n",
    "정제된 데이터셋 로딩"
   ]
  },
  {
   "cell_type": "code",
   "execution_count": 1,
   "metadata": {
    "collapsed": true
   },
   "outputs": [
    {
     "name": "stdout",
     "output_type": "stream",
     "text": [
      "[['제임스', '얼', '지미', '카터', '주니어', '1', '9', '2', '4', '년', '1', '0', '월', '1', '일', '는', '민주당', '출신', '미국', '3', '9', '번', '째', '대통령', '1', '9', '7', '7', '년', '1', '9', '8', '1', '년', '이', '다', '지미', '카터', '는', '조지', '아주', '섬터', '카운티', '플', '레인스', '마을', '에서', '태어났', '다', '조지', '아', '공과', '대학교', '를', '졸업', '하', '였', '다', '그', '후', '해군', '에', '들어가', '전함', '원자력', '잠수함', '의', '승무원', '으로', '일', '하', '였', '다', '1', '9', '5', '3', '년', '미국', '해군', '대위', '로', '예편', '하', '였', '고', '이후', '땅콩', '면화', '등', '을', '가꿔', '많', '은', '돈', '을', '벌', '었', '다', '그', '의', '별명', '이', '땅콩', '농부', 'Peanut', 'Farmer', '로', '알려졌', '다', '1', '9', '6', '2', '년', '조지아', '주', '상원', '의원', '선거', '에서', '낙선', '하', '나', '그', '선거', '가', '부정', '선거', '였음을', '입증', '하', '게', '되', '어', '당선', '되', '고', '1', '9', '6', '6', '년', '조지아', '주', '지사', '선거', '에', '낙선', '하', '지만', '1', '9', '7', '0', '년', '조지아', '주', '지사', '를', '역임', '했', '다', '대통령', '이', '되', '기', '전', '조지', '아주', '상원', '의원', '을', '두', '번', '연임', '했으며', '1', '9', '7', '1', '년', '부터', '1', '9', '7', '5', '년', '까지', '조지', '아', '지사', '로', '근무', '했', '다', '조지', '아', '주지사', '로', '지내', '면서', '미국', '에', '사', '는', '흑인', '등', '용법', '을', '내세웠', '다', '취임식', '을', '올리', '는', '카터', '1', '9', '7', '6', '년', '대통령', '선거', '에', '민주당', '후보', '로', '출마', '하', '여', '도덕주의', '정책', '으로', '내세워', '포드', '를', '누르', '고', '당선', '되', '었', '다', '카터', '대통령', '은', '에너지', '개발', '을', '촉구', '했으나', '공화', '당', '의', '반대', '로', '무산', '되', '었', '다', 'Carter', 'Begin', 'Camp', 'David', '1', '9', '7', '8', 'gif', '섬네일', '3', '0', '0', 'px', '캠프', '데이비드', '에서', '사다트', '와', '베긴', '과', '함께', '카터', '는', '이집트', '와', '이스라엘', '을', '조정', '하', '여', '캠프', '데이비드', '에서', '안와르', '사다트', '대통령', '과', '메나헴', '베긴', '수상', '과', '함께', '중동', '평화', '를', '위한', '캠프', '데이비드', '협정', '을', '체결', '했', '다', '그러나', '이것', '은', '공화', '당', '과', '미국', '의', '유대', '인', '단체', '의', '반발', '을', '일으켰', '다', '1', '9', '7', '9', '년', '백악관', '에서', '양국', '간', '의', '평화', '조약', '으로', '이끌', '어', '졌', '다', '또한', '소련', '과', '제', '2', '차', '전략', '무기', '제한', '협상', '에', '조인', '했', '다', '카터', '는', '1', '9', '7', '0', '년', '대', '후반', '당시', '대한민국', '등', '인권', '후진국', '의', '국민', '들', '의', '인권', '을', '지키', '기', '위해', '노력', '했으며', '취임', '이후', '계속', '해서', '도덕', '정치', '를', '내세웠', '다', '그러나', '주', '이', '란', '미국', '대사관', '인질', '사건', '에서', '인질', '구출', '실패', '를', '이유', '로', '1', '9', '8', '0', '년', '대통령', '선거', '에서', '공화', '당', '의', '로널드', '레이건', '후보', '에게', '져', '결국', '재선', '에', '실패', '했', '다', '또한', '임기', '말기', '에', '터진', '소련', '의', '아프가니스탄', '침공', '사건', '으로', '인해', '1', '9', '8', '0', '년', '하계', '올림픽', '에', '반공', '국가', '들', '의', '보이콧', '을', '내세웠', '다', '지미', '카터', '는', '대한민국', '과', '의', '관계', '에서', '도', '중요', '한', '영향', '을', '미쳤', '던', '대통령', '중', '하나', '다', '인권', '문제', '와', '주한', '미군', '철수', '문제', '로', '한때', '한미', '관계', '가', '불편', '하', '기', '도', '했', '다', '1', '9', '7', '8', '년', '대한민국', '에', '대한', '북한', '의', '위협', '에', '대비', '해', '한', '미연', '합사', '를', '창설', '하', '면서', '1', '9', '8', '2', '년', '까지', '3', '단계', '에', '걸쳐', '주한', '미군', '을', '철수', '하', '기', '로', '했', '다', '그러나', '주한', '미군', '사령부', '와', '정보', '기관', '의회', '의', '반대', '에', '부딪혀', '주한', '미군', '은', '완전', '철수', '대신', '6', '0', '0', '0', '명', '을', '감축', '하', '는', '데', '그쳤', '다', '또한', '박정희', '정권', '의', '인권', '문제', '등', '과', '의', '논란', '으로', '불협화음', '을', '냈으나', '1', '9', '7', '9', '년', '6', '월', '하순', '대한민국', '을', '방문', '하', '여', '관계', '가', '다소', '회복', '되', '었', '다', '1', '9', '7', '9', '년', '1', '9', '8', '0', '년', '대한민국', '의', '정치', '적', '격변기', '당시', '의', '대통령', '이', '었', '던', '그', '는', '이', '에', '대해', '애매', '한', '태도', '를', '보였', '고', '이', '는', '후', '에', '대한민국', '내', '에서', '고조', '되', '는', '반미', '운동', '의', '한', '원인', '이', '됐', '다', '1', '0', '월', '2', '6', '일', '박정희', '대통령', '이', '김재규', '중앙', '정보', '부장', '에', '의해', '살해', '된', '것', '에', '대해', '그', '는', '이', '사건', '으로', '큰', '충격', '을', '받', '았', '으며', '사이러스', '밴스', '국무', '장관', '을', '조문', '사절', '로', '파견', '했', '다', '1', '2', '1', '2', '군사', '반란', '과', '5', '1', '7', '쿠데타', '에', '대해', '초기', '에', '는', '강하', '게', '비난', '했으나', '미국', '정부', '가', '신', '군부', '를', '설득', '하', '는데', '한계', '가', '있', '었', '고', '결국', '묵인', '하', '는', '듯', '한', '태도', '를', '보이', '게', '됐', '다', '남수단', '독립', '국민', '투표', '에', '업', '저', '버', '사절단', '을', '지도', '한', '카터', '퇴임', '이후', '민간', '자원', '을', '적극', '활용', '한', '비', '영리', '기구', '인', '카터', '재단', '을', '설립', '한', '뒤', '민주주의', '실현', '을', '위해', '제', '3', '세계', '의', '선거', '감시', '활동', '및', '기니', '벌레', '에', '의한', '드라', '쿤', '쿠르', '스', '질병', '방재', '를', '위해', '힘썼', '다', '미국', '의', '빈곤층', '지원', '활동', '사랑', '의', '집짓기', '운동', '국제', '분쟁', '중재', '등', '의', '활동', '도', '했', '다', '카터', '는', '카터', '행정부', '이후', '미국', '이', '북', '핵', '위기', '코소보', '전쟁', '이라크', '전쟁', '과', '같이', '미국', '이', '군사', '적', '행동', '을', '최후', '로', '선택', '하', '는', '전통', '적', '사고', '를', '버리', '고', '군사', '적', '행동', '을', '선행', '하', '는', '행위', '에', '대해', '깊', '은', '유감', '을', '표시', '하', '며', '미국', '의', '군사', '적', '활동', '에', '강한', '반대', '입장', '을', '보이', '고', '있', '다', '특히', '국제', '분쟁', '조정', '을', '위해', '북한', '의', '김일성', '아이', '티', '의', '세드', '라스', '장군', '팔레', '인', '스타인', '의', '하마스', '보스니아', '의', '세르비', '아계', '정권', '같이', '미국', '정부', '에', '대해', '협상', '을', '거부', '하', '면서', '사태', '의', '위기', '를', '초래', '한', '인물', '및', '단체', '를', '직접', '만나', '분쟁', '의', '원인', '을', '근본', '적', '으로', '해결', '하', '기', '위해', '힘썼', '다', '이', '과정', '에서', '미국', '행정부', '와', '갈등', '을', '보이', '기', '도', '했', '지만', '전직', '대통령', '의', '권한', '과', '재야', '유명', '인사', '들', '의', '활약', '으로', '해결', '해', '나갔', '다', '1', '9', '7', '8', '년', '에', '채결', '된', '캠프', '데이비드', '협정', '의', '이행', '이', '지지부진', '하', '자', '중동', '분쟁', '분제', '를', '해결', '하', '기', '위해', '1', '9', '9', '3', '년', '퇴임', '후', '직접', '이스라엘', '과', '팔레', '인', '스타인', '의', '오슬로', '협정', '을', '이끌', '어', '내', '는', '데', '도', '성공', '했', '다', '행렬', '5', '0', '주년', '을', '맞', '는', '날', '빌', '클린턴', '버락', '오바마', '대통령', '과', '함께', '2', '0', '1', '3', '년', '1', '9', '9', '3', '년', '1', '차', '북', '핵', '위기', '당시', '북한', '에', '대한', '미국', '의', '군사', '적', '행동', '이', '임박', '했으나', '미국', '전직', '대통령', '으로', '는', '처음', '으로', '북한', '을', '방문', '하', '고', '미국', '과', '북', '양국', '의', '중재', '에', '큰', '기여', '를', '해', '위기', '를', '해결', '했', '다는', '평가', '를', '받', '았', '다', '또한', '이', '때', '김영삼', '대통령', '과', '김일성', '주석', '의', '만남', '을', '주선', '했', '다', '하지만', '그', '로부터', '수', '주일', '후', '김일성', '이', '갑자기', '사망', '하', '여', '김일성', '과', '김영삼', '의', '정상', '회담', '은', '이루어지', '지', '못했', '다', '미국', '의', '관타나모', '수용소', '문제', '세계', '의', '인권', '문제', '에서', '도', '관심', '이', '깊', '어', '유엔', '에', '유엔', '인권', '고등', '판무관', '의', '제도', '를', '시행', '하', '도록', '노력', '하', '여', '독재자', '들', '의', '인권', '유린', '에', '대해', '제약', '을', '하', '고', '국제', '형사', '재판소', '를', '만드', '는', '데', '기여', '하', '여', '독재자', '들', '같', '은', '인권', '유린', '범죄자', '를', '재판소', '로', '회부', '하', '여', '국제', '적', '인', '처벌', '을', '받', '게', '하', '는', '등', '인권', '신장', '에', '크', '나', '큰', '기여', '를', '했', '다', '2', '0', '1', '1', '년', '4', '월', '2', '6', '일', '부터', '2', '9', '일', '까지', '북한', '을', '3', '일', '간', '방문', '했', '다', '경제', '문제', '를', '해결', '하', '지', '못하', '고', '주', '이란', '미국', '대사관', '인질', '사건', '에', '발목', '이', '잡혀', '실패', '한', '대통령', '으로', '평가', '를', '받', '지만', '이란', '사태', '는', '미국', '내', '이', '란', '재산', '을', '풀', '어', '주', '겠', '다는', '조건', '을', '내세워서', '사실상', '카터', '가', '해결', '한', '것', '이', '었', '고', '사랑', '의', '집짓기', '운동', '등', '으로', '퇴임', '후', '에', '훨씬', '더', '존경', '받', '는', '미국', '대통령', '중', '에', '특이', '한', '인물', '로', '남', '았', '다', '그', '는', '2', '0', '0', '2', '년', '말', '인권', '과', '중재', '역할', '에', '대한', '공로', '를', '인정받', '아', '노벨', '평화상', '을', '받', '게', '되', '었', '다', '진정', '한', '리더', '는', '떠난', '후', '에', '아름답', '다', '저자', '지미', '카터', '지미', '카터', '저자', '지미', '카터', '지식', '의', '날개', '2', '0', '1', '8', '분류', '1', '9', '2', '4', '년', '태어남', '분류', '1', '9', '7', '6', '년', '미국', '대통령', '후보', '분류', '1', '9', '8', '0', '년', '미국', '대통령', '후보', '분류', '그래미상', '수상자', '분류', '노벨', '평화상', '수상자', '분류', '미국', '해군', '의', '장교', '분류', '미국', '의', '침례교', '도', '분류', '미국', '의', '노벨상', '수상자', '분류', '미국', '의', '농부', '분류', '미국', '의', '대통령', '분류', '미국', '의', '역사', '1', '9', '6', '4', '1', '9', '8', '0', '분류', '미국', '의', '외교관', '분류', '미국', '의', '인도주의자', '분류', '미국', '의', '제', '2', '차', '세계', '대전', '참전', '군인', '분류', '미국', '의', '진보주의', '분류', '민주당', '미국', '의', '정치', '인', '분류', '살', '아', '있', '는', '사람', '분류', '스코틀랜드', '계', '미국인', '분류', '아일랜드', '계', '미국인', '분류', '잉글랜드', '계', '미국인', '분류', '조지아', '공과', '대학교', '동문', '분류', '조지', '아주', '출신', '정치', '인', '분류', '조지', '아주', '지사', '분류', '미국', '의', '회고록', '작가', '분류', '에모리', '대학교', '교수', '분류', '미국', '해군사관학교', '동문', '분류', '미국', '미주리', '종합', '군사', '학원', '동문', '분류', '타임', '올해', '의', '인물', '분류', '군사', '기술자', '분류', '이', '란', '혁명', '관련자']]\n"
     ]
    }
   ],
   "source": [
    "#-*-coding:utf-8\n",
    "import re\n",
    "corpus_path = './data/tokenized/wiki_ko_mecab.txt'\n",
    "\n",
    "datasets = []\n",
    "with open(corpus_path, 'r', encoding='utf-8') as f:\n",
    "    for line in f:\n",
    "        datasets.append(re.sub(r\"[^ㄱ-힣a-zA-Z0-9]+\", ' ', line).strip().split())\n",
    "\n",
    "print(datasets[:1])"
   ]
  },
  {
   "cell_type": "markdown",
   "metadata": {},
   "source": [
    "## 2. Word2Vec 생성\n",
    "\n",
    "gensim 라이브러리를 이용하여 word2vec 생성"
   ]
  },
  {
   "cell_type": "code",
   "execution_count": 2,
   "metadata": {
    "pycharm": {
     "name": "#%%\n"
    }
   },
   "outputs": [],
   "source": [
    "from gensim.models import Word2Vec\n",
    "model_name = './wiki-sg-256.wv'\n",
    "model = Word2Vec(datasets, vector_size=256, workers=12, sg=1, window=5, min_count=10)\n",
    "word_vectors = model.wv\n",
    "word_vectors.save_word2vec_format(model_name) # 파일 저장\n"
   ]
  },
  {
   "cell_type": "markdown",
   "metadata": {},
   "source": [
    "## 3. 평가셋을 이용하여 유사도 평가\n",
    "\n",
    "평가셋 다운로드"
   ]
  },
  {
   "cell_type": "code",
   "execution_count": 3,
   "metadata": {
    "pycharm": {
     "name": "#%%\n"
    }
   },
   "outputs": [
    {
     "name": "stderr",
     "output_type": "stream",
     "text": [
      "  % Total    % Received % Xferd  Average Speed   Time    Time     Time  Current\n",
      "                                 Dload  Upload   Total   Spent    Left  Speed\n",
      "\n",
      "  0     0    0     0    0     0      0      0 --:--:-- --:--:-- --:--:--     0\n",
      "100  6753  100  6753    0     0   6753      0  0:00:01 --:--:--  0:00:01 15417\n"
     ]
    }
   ],
   "source": [
    "# Windows\n",
    "!curl https://raw.githubusercontent.com/dongjun-Lee/kor2vec/master/test_dataset/kor_ws353.csv > kor_ws353.csv\n",
    "\n",
    "# Linux\n",
    "# !wget https://raw.githubusercontent.com/dongjun-Lee/kor2vec/master/test_dataset/kor_ws353.csv"
   ]
  },
  {
   "cell_type": "markdown",
   "metadata": {},
   "source": [
    "평가셋 로딩 후, 정답(`answer_list`)과 각 W2V의 단어의 유사도 값(`pred_list`)을 저장"
   ]
  },
  {
   "cell_type": "code",
   "execution_count": 4,
   "metadata": {
    "pycharm": {
     "name": "#%%\n"
    }
   },
   "outputs": [
    {
     "name": "stdout",
     "output_type": "stream",
     "text": [
      "\"Key '똑똑한' not present\"\n",
      "\"Key '똑똑한' not present\"\n",
      "\"Key '씨디' not present\"\n",
      "\"Key '고양이과' not present\"\n",
      "\"Key '육식동물' not present\"\n",
      "\"Key '정신의학' not present\"\n",
      "\"Key '정신의학' not present\"\n",
      "\"Key '수집품' not present\"\n",
      "\"Key '독립체' not present\"\n",
      "\"Key '인종차별' not present\"\n",
      "\"Key '유사도' not present\"\n",
      "\"Key '근접성' not present\"\n",
      "\"Key '랍스터' not present\"\n",
      "\"Key '랍스터' not present\"\n",
      "\"Key '랍스터' not present\"\n",
      "\"Key '중요성' not present\"\n"
     ]
    }
   ],
   "source": [
    "testset = './kor_ws353.csv'\n",
    "\n",
    "answer_list, pred_list = [], []\n",
    "with open(testset, 'r', encoding='utf-8-sig') as testfile:\n",
    "    for pair in testfile:\n",
    "        w1, w2, sim = pair.strip().split(',')\n",
    "        try:\n",
    "            pred = word_vectors.similarity(w1, w2)\n",
    "            answer_list.append(float(sim))\n",
    "            pred_list.append(pred)\n",
    "        except KeyError as e:\n",
    "            # 단어 임베딩에 포함되지 않은 단어들\n",
    "            print(e)"
   ]
  },
  {
   "cell_type": "markdown",
   "metadata": {
    "pycharm": {
     "name": "#%% md\n"
    }
   },
   "source": [
    "상관관계 분석을 위해 스피어만 상관계수와 피어슨 상관계수를 계산 후 결과를 출력"
   ]
  },
  {
   "cell_type": "code",
   "execution_count": 6,
   "metadata": {
    "pycharm": {
     "name": "#%%\n"
    }
   },
   "outputs": [
    {
     "data": {
      "image/png": "[encoded data removed]",
      "text/plain": [
       "<Figure size 432x288 with 1 Axes>"
      ]
     },
     "metadata": {
      "needs_background": "light"
     },
     "output_type": "display_data"
    },
    {
     "name": "stdout",
     "output_type": "stream",
     "text": [
      "spearman: 0.65419, pearson: 0.62133\n"
     ]
    }
   ],
   "source": [
    "from scipy import stats\n",
    "from matplotlib import pyplot as plt\n",
    "\n",
    "spearman, _ = stats.spearmanr(answer_list, pred_list)\n",
    "pearson, _ = stats.pearsonr(answer_list, pred_list)\n",
    "\n",
    "label = ['spearman','pearson']\n",
    "plt.bar(label, [spearman, pearson])\n",
    "plt.show()\n",
    "print('spearman: %.5f, pearson: %.5f' % (spearman, pearson))"
   ]
  }
 ],
 "metadata": {
  "kernelspec": {
   "display_name": "Python 3 (ipykernel)",
   "language": "python",
   "name": "python3"
  },
  "language_info": {
   "codemirror_mode": {
    "name": "ipython",
    "version": 3
   },
   "file_extension": ".py",
   "mimetype": "text/x-python",
   "name": "python",
   "nbconvert_exporter": "python",
   "pygments_lexer": "ipython3",
   "version": "3.7.9"
  }
 },
 "nbformat": 4,
 "nbformat_minor": 1
}